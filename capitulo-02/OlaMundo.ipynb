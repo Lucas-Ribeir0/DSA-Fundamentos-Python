{
 "cells": [
  {
   "cell_type": "code",
   "execution_count": 1,
   "id": "3f6849b9",
   "metadata": {},
   "outputs": [
    {
     "data": {
      "text/plain": [
       "4"
      ]
     },
     "execution_count": 1,
     "metadata": {},
     "output_type": "execute_result"
    }
   ],
   "source": [
    "2+2"
   ]
  },
  {
   "cell_type": "code",
   "execution_count": 3,
   "id": "91ddae7d",
   "metadata": {},
   "outputs": [
    {
     "data": {
      "text/plain": [
       "56"
      ]
     },
     "execution_count": 3,
     "metadata": {},
     "output_type": "execute_result"
    }
   ],
   "source": [
    "(12*5)-4"
   ]
  },
  {
   "cell_type": "code",
   "execution_count": 4,
   "id": "22b4e104",
   "metadata": {},
   "outputs": [
    {
     "name": "stdout",
     "output_type": "stream",
     "text": [
      "Olá Mundo!\n"
     ]
    }
   ],
   "source": [
    "print(\"Olá Mundo!\")"
   ]
  },
  {
   "cell_type": "markdown",
   "id": "849ec90b",
   "metadata": {},
   "source": [
    "Gere código Python que crie uma lista com os números entre 1 e 100 e então imprima os números pares, mas somente se o número for divisível por 4."
   ]
  },
  {
   "cell_type": "code",
   "execution_count": null,
   "id": "a0a26faa",
   "metadata": {},
   "outputs": [],
   "source": [
    "# Criando uma lista com os números de 1 a 100\n",
    "lista = list(range(1, 101))"
   ]
  },
  {
   "cell_type": "code",
   "execution_count": 4,
   "id": "4f377656",
   "metadata": {},
   "outputs": [
    {
     "data": {
      "text/plain": [
       "list"
      ]
     },
     "execution_count": 4,
     "metadata": {},
     "output_type": "execute_result"
    }
   ],
   "source": [
    "type(lista)"
   ]
  },
  {
   "cell_type": "code",
   "execution_count": 7,
   "id": "e7450916",
   "metadata": {},
   "outputs": [
    {
     "name": "stdout",
     "output_type": "stream",
     "text": [
      "4\n",
      "8\n",
      "12\n",
      "16\n",
      "20\n",
      "24\n",
      "28\n",
      "32\n",
      "36\n",
      "40\n",
      "44\n",
      "48\n",
      "52\n",
      "56\n",
      "60\n",
      "64\n",
      "68\n",
      "72\n",
      "76\n",
      "80\n",
      "84\n",
      "88\n",
      "92\n",
      "96\n",
      "100\n"
     ]
    }
   ],
   "source": [
    "# Usando um laço for para percorrer a lista\n",
    "for num in lista:\n",
    "    # Verificando se o número é par e divisível por 4\n",
    "    if (num % 2 == 0) & (num % 4 == 0):\n",
    "        print(num)"
   ]
  },
  {
   "cell_type": "markdown",
   "id": "e1977b02",
   "metadata": {},
   "source": [
    "Gere código de Python que crie uma lista com os números entre 1 e 100 e então imprima os números pares, mas somente se o número for divisível por 4, usando list comprehension."
   ]
  },
  {
   "cell_type": "code",
   "execution_count": 8,
   "id": "4a384975",
   "metadata": {},
   "outputs": [
    {
     "name": "stdout",
     "output_type": "stream",
     "text": [
      "[4, 8, 12, 16, 20, 24, 28, 32, 36, 40, 44, 48, 52, 56, 60, 64, 68, 72, 76, 80, 84, 88, 92, 96, 100]\n"
     ]
    }
   ],
   "source": [
    "# Criando uma lista com os números de 1 a 100\n",
    "lista = [num for num in range(1, 101)]\n",
    "\n",
    "# Usando list comprehension para filtrar e imprimir os números pares divisíveis por 4\n",
    "pares_div4 = [num for num in lista if (num % 2 == 0) and (num % 4 == 0)]\n",
    "\n",
    "print(pares_div4)\n"
   ]
  },
  {
   "cell_type": "markdown",
   "id": "59b94271",
   "metadata": {},
   "source": [
    "# Fim"
   ]
  }
 ],
 "metadata": {
  "kernelspec": {
   "display_name": "Python 3 (ipykernel)",
   "language": "python",
   "name": "python3"
  },
  "language_info": {
   "codemirror_mode": {
    "name": "ipython",
    "version": 3
   },
   "file_extension": ".py",
   "mimetype": "text/x-python",
   "name": "python",
   "nbconvert_exporter": "python",
   "pygments_lexer": "ipython3",
   "version": "3.9.13"
  }
 },
 "nbformat": 4,
 "nbformat_minor": 5
}
