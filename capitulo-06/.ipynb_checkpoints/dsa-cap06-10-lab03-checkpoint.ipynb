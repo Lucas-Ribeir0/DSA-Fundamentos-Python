{
 "cells": [
  {
   "cell_type": "markdown",
   "id": "fa6bd25a",
   "metadata": {},
   "source": [
    "# Expressões Regulares\n",
    "\n"
   ]
  },
  {
   "cell_type": "code",
   "execution_count": 1,
   "id": "f99bf8da",
   "metadata": {},
   "outputs": [],
   "source": [
    "import re"
   ]
  },
  {
   "cell_type": "code",
   "execution_count": 2,
   "id": "1e73dfce",
   "metadata": {},
   "outputs": [],
   "source": [
    "text = \"Meu e-mail é exemplo@gmail.com e você pode me contatar em outro_email@yahoo.com.\""
   ]
  },
  {
   "cell_type": "code",
   "execution_count": 4,
   "id": "8f9eaa9a",
   "metadata": {},
   "outputs": [],
   "source": [
    "# Expressão regular para contar quantas vezes o caracter arroba aparece no texto\n",
    "resultado = len(re.findall(\"@\", text))"
   ]
  },
  {
   "cell_type": "code",
   "execution_count": 5,
   "id": "44dd7cef",
   "metadata": {},
   "outputs": [
    {
     "name": "stdout",
     "output_type": "stream",
     "text": [
      "O caractere '@' apareceu 2 vezes no txto.\n"
     ]
    }
   ],
   "source": [
    "print(\"O caractere '@' apareceu\", resultado, \"vezes no texto.\")"
   ]
  },
  {
   "cell_type": "code",
   "execution_count": 8,
   "id": "2e7fe5e3",
   "metadata": {},
   "outputs": [],
   "source": [
    "# Expressão regular para extrair a palavra que aparece após a palavra \"você\" em um texto\n",
    "resultado = re.findall(r'você (\\w+)', text)"
   ]
  },
  {
   "cell_type": "code",
   "execution_count": 9,
   "id": "2d4cf83e",
   "metadata": {},
   "outputs": [
    {
     "name": "stdout",
     "output_type": "stream",
     "text": [
      "A palavra após 'você' é: pode\n"
     ]
    }
   ],
   "source": [
    "print(\"A palavra após 'você' é:\", resultado[0])"
   ]
  },
  {
   "cell_type": "code",
   "execution_count": 11,
   "id": "d97a6230",
   "metadata": {},
   "outputs": [],
   "source": [
    "# Expressão regular para extrair endereços de e-mail de uma string\n",
    "emails = re.findall(r'\\b[A-Za-z0-9._%+-]+@[A-Za-z0-9.-]+\\.[A-Z|a-z]{2,}\\b', text)"
   ]
  },
  {
   "cell_type": "code",
   "execution_count": 12,
   "id": "c7f38f3f",
   "metadata": {},
   "outputs": [
    {
     "name": "stdout",
     "output_type": "stream",
     "text": [
      "['exemplo@gmail.com', 'outro_email@yahoo.com']\n"
     ]
    }
   ],
   "source": [
    "print(emails)"
   ]
  },
  {
   "cell_type": "markdown",
   "id": "f5977a14",
   "metadata": {},
   "source": [
    "# Documentação do re (regular expressions) do python.\n",
    "\n",
    "https://docs.python.org/3.11/library/re.html"
   ]
  },
  {
   "cell_type": "code",
   "execution_count": 13,
   "id": "6efaa89e",
   "metadata": {},
   "outputs": [],
   "source": [
    "texto = \"O aluno estava incrivelmente perdido, mas encoutrou a DSA e rapidamente começou a aprender\""
   ]
  },
  {
   "cell_type": "code",
   "execution_count": 14,
   "id": "01fce9f6",
   "metadata": {},
   "outputs": [
    {
     "name": "stdout",
     "output_type": "stream",
     "text": [
      "15-28: incrivelmente\n",
      "60-71: rapidamente\n"
     ]
    }
   ],
   "source": [
    "# Extraindo os advérbios da frase\n",
    "for m in re.finditer(r\"\\w+mente\\b\", texto):\n",
    "    print('%02d-%02d: %s' % (m.start(), m.end(), m.group(0)))"
   ]
  },
  {
   "cell_type": "markdown",
   "id": "4badc028",
   "metadata": {},
   "source": [
    "# REGEX com ChatGPT\n",
    "Música:  Dark All Day\n",
    "Gunship"
   ]
  },
  {
   "cell_type": "code",
   "execution_count": 15,
   "id": "896e4976",
   "metadata": {},
   "outputs": [],
   "source": [
    "# Variável do tipo string"
   ]
  },
  {
   "cell_type": "code",
   "execution_count": 76,
   "id": "d161bf7e",
   "metadata": {},
   "outputs": [],
   "source": [
    "musica = '''\n",
    "As he takes from me my last breath, inhale\n",
    "I'm picking up the scent\n",
    "What a hell of a feeling\n",
    "It is dark all day\n",
    "But there is something in the sky that glows\n",
    "What a hell of a feeling\n",
    "With such a brilliant mind\n",
    "Can you feel those chemicals in the air tonight\n",
    "I will see you on the other side\n",
    "I am your night girl, rip my heart out\n",
    "Darkness falling yet another night\n",
    "Come on Lost Boys, let's stay alive\n",
    "What a hell of a day to embrace disorder\n",
    "And there is something in your eyes that burns\n",
    "Light up\n",
    "Drag the river\n",
    "Can you see there are chemicals in the air tonight\n",
    "I will see you on the other side\n",
    "I am your night girl, rip my heart out\n",
    "Darkness falling yet another night\n",
    "Come on Lost Boys, let's stay alive\n",
    "Let's fly\n",
    "I will see you on the other side\n",
    "I am your night girl, rip my heart out\n",
    "Darkness falling yet another night\n",
    "Come on Lost Boys, let's stay alive\n",
    "Goodnight my Lost Boys\n",
    "Thou shall not fear\n",
    "Goodnight my sweetheart\n",
    "thi'sss  aaa'test\n",
    "'''"
   ]
  },
  {
   "cell_type": "code",
   "execution_count": 17,
   "id": "522a40cc",
   "metadata": {},
   "outputs": [
    {
     "name": "stdout",
     "output_type": "stream",
     "text": [
      "\n",
      "As he takes from me my last breath, inhale\n",
      "I'm picking up the scent\n",
      "What a hell of a feeling\n",
      "It is dark all day\n",
      "But there is something in the sky that glows\n",
      "What a hell of a feeling\n",
      "With such a brilliant mind\n",
      "Can you feel those chemicals in the air tonight\n",
      "I will see you on the other side\n",
      "I am your night girl, rip my heart out\n",
      "Darkness falling yet another night\n",
      "Come on Lost Boys, let's stay alive\n",
      "What a hell of a day to embrace disorder\n",
      "And there is something in your eyes that burns\n",
      "Light up\n",
      "Drag the river\n",
      "Can you see there are chemicals in the air tonight\n",
      "I will see you on the other side\n",
      "I am your night girl, rip my heart out\n",
      "Darkness falling yet another night\n",
      "Come on Lost Boys, let's stay alive\n",
      "Let's fly\n",
      "I will see you on the other side\n",
      "I am your night girl, rip my heart out\n",
      "Darkness falling yet another night\n",
      "Come on Lost Boys, let's stay alive\n",
      "Goodnight my Lost Boys\n",
      "Thou shall not fear\n",
      "Goodnight my sweetheart\n"
     ]
    }
   ],
   "source": [
    "print(musica)"
   ]
  },
  {
   "cell_type": "code",
   "execution_count": 18,
   "id": "2dc920b1",
   "metadata": {},
   "outputs": [],
   "source": [
    "# 1 Crie um REGEX para contar quantas vezes o caracter \"a\" aparece em todo o texto da música.\n",
    "# 2 Para contar quantas vezes a palavra tempo aparece na música.\n",
    "# 3 Para extrair as palavras seguidas por exclamação.\n",
    "# 4 Que extrai qualquer palavra cujo antecessor seja a palavra \"esse\" e o sucessor seja a palavra \"amargo\"\n",
    "# 5 Que retorne as palavras com acento, mas somente os caracteres na palavra que não são anteriores ao caracteres com acento"
   ]
  },
  {
   "cell_type": "markdown",
   "id": "aee99a0e",
   "metadata": {},
   "source": [
    " Aqui está a solução"
   ]
  },
  {
   "cell_type": "code",
   "execution_count": 21,
   "id": "c82d422c",
   "metadata": {},
   "outputs": [],
   "source": [
    "# 1 Crie um REGEX para contar quantas vezes o caracter \"a\" aparece em todo o texto da música.\n",
    "\n",
    "ocorrencias_a = len(re.findall(\"a\", musica))"
   ]
  },
  {
   "cell_type": "code",
   "execution_count": 23,
   "id": "ebad5103",
   "metadata": {},
   "outputs": [
    {
     "name": "stdout",
     "output_type": "stream",
     "text": [
      "A letra 'a' aparece 54 vezes na música\n"
     ]
    }
   ],
   "source": [
    "print(\"A letra 'a' aparece\", ocorrencias_a, \"vezes na música\")"
   ]
  },
  {
   "cell_type": "code",
   "execution_count": 30,
   "id": "3dcc4e6e",
   "metadata": {},
   "outputs": [
    {
     "name": "stdout",
     "output_type": "stream",
     "text": [
      "Número de ocorrências da palavra 'Goodnight' usando REGEX: 2\n"
     ]
    }
   ],
   "source": [
    "# 2 Para contar quantas vezes a palavra tempo aparece na música.\n",
    "\n",
    "ocorrencias_tempo = len(re.findall(r'\\bGoodnight\\b', musica))\n",
    "\n",
    "\n",
    "print(\"Número de ocorrências da palavra 'Goodnight' usando REGEX:\", ocorrencias_tempo)"
   ]
  },
  {
   "cell_type": "code",
   "execution_count": 53,
   "id": "a6a71ae4",
   "metadata": {},
   "outputs": [
    {
     "data": {
      "text/plain": [
       "['breath', 'girl', 'Boys', 'girl', 'Boys', 'girl', 'Boys']"
      ]
     },
     "execution_count": 53,
     "metadata": {},
     "output_type": "execute_result"
    }
   ],
   "source": [
    "# 3 Para extrair as palavras seguidas por exclamação.\n",
    "palavras_com_virgula = re.findall(r'\\b\\w+\\b(?=\\s*,)', musica)\n",
    "\n",
    "palavras_com_virgula\n"
   ]
  },
  {
   "cell_type": "code",
   "execution_count": 71,
   "id": "6ef6e1a4",
   "metadata": {},
   "outputs": [
    {
     "data": {
      "text/plain": [
       "['night', 'night', 'night']"
      ]
     },
     "execution_count": 71,
     "metadata": {},
     "output_type": "execute_result"
    }
   ],
   "source": [
    "# 4 Que extrai qualquer palavra cujo antecessor seja a palavra \"esse\" e o sucessor seja a palavra \"amargo\"\n",
    "\n",
    "palavras_entre_your_e_girl = re.findall(r'(?i)(?<=\\bYour\\s)\\w+(?=\\sGirl\\b)', musica)\n",
    "\n",
    "palavras_entre_your_e_girl"
   ]
  },
  {
   "cell_type": "code",
   "execution_count": 78,
   "id": "21d99878",
   "metadata": {},
   "outputs": [
    {
     "data": {
      "text/plain": [
       "['I', 'let', 'let', 'Let', 'let', 'thi', 'aaa']"
      ]
     },
     "execution_count": 78,
     "metadata": {},
     "output_type": "execute_result"
    }
   ],
   "source": [
    "# 5 Que retorne as palavras com aspa, mas somente os caracteres na palavra que não são anteriores ao caracteres com aspa\n",
    "palavras_com_aspas = re.findall(r'\\b\\w+(?=\\'\\w*\\b)', musica)\n",
    "\n",
    "palavras_com_aspas"
   ]
  },
  {
   "cell_type": "code",
   "execution_count": null,
   "id": "fde88b0b",
   "metadata": {},
   "outputs": [],
   "source": []
  }
 ],
 "metadata": {
  "kernelspec": {
   "display_name": "Python 3 (ipykernel)",
   "language": "python",
   "name": "python3"
  },
  "language_info": {
   "codemirror_mode": {
    "name": "ipython",
    "version": 3
   },
   "file_extension": ".py",
   "mimetype": "text/x-python",
   "name": "python",
   "nbconvert_exporter": "python",
   "pygments_lexer": "ipython3",
   "version": "3.9.13"
  }
 },
 "nbformat": 4,
 "nbformat_minor": 5
}
