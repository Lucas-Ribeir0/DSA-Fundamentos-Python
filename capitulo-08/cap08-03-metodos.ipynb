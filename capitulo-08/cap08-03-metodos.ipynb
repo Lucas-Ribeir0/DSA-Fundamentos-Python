{
 "cells": [
  {
   "cell_type": "markdown",
   "id": "06f0711d",
   "metadata": {},
   "source": [
    "# Trabalhando com Métodos de Classes em Python\n",
    "\n",
    "Em Python, os métodos de classes são funções definidas dentro de uma classe, que realizam operações específicas em objetos criados a partir dessa classe. Os métodos de classes são usados para implementar o comportamento dos objetos que pertencem a essa classe.\n",
    "\n",
    "Assim como as funções em Python, os métodos de classes podem receber argumentos e retornar valores. No entanto, diferentemente das funções normais, os métodos de classes sempre incluem o parâmetro self como o primeiro argumento, que é usado para se referir ao objeto atual da classe.\n",
    "\n",
    "O método init é um método especial que é chamado quando um objeto é criado a partir da classe. Este método é usado para inicializar os atríbutos do objeto. Outros métodos podem ser definidos para executar tarefas específicas em um objeto, como calcular valores, realizar operações de entrada e saída, ou alterar o estado do objeto"
   ]
  },
  {
   "cell_type": "code",
   "execution_count": 21,
   "id": "dedca5fa",
   "metadata": {},
   "outputs": [],
   "source": [
    "# Criando uma classe chamada Círculo\n",
    "class Circulo():\n",
    "    # O valor de pi é constante\n",
    "    pi = 3.14\n",
    "    \n",
    "    # Quando um objeto desta classe for criado, este método será executado e o valor default do raio será 5.\n",
    "    \n",
    "    def __init__(self, raio = 5):\n",
    "        self.raio = raio\n",
    "        \n",
    "    # Esse método calcula a área\n",
    "    def area(self):\n",
    "        return (self.raio * self.raio) * Circulo.pi\n",
    "    \n",
    "    # Método para gerar um novo raio\n",
    "    def setRaio(self, novo_raio):\n",
    "        self.raio = novo_raio\n",
    "        \n",
    "    # Método para obter o raio do circulo\n",
    "    def getRaio(self):\n",
    "        return self.raio"
   ]
  },
  {
   "cell_type": "code",
   "execution_count": 22,
   "id": "14374272",
   "metadata": {},
   "outputs": [],
   "source": [
    "# Criando o objeto circ, uma instância da classe Circulo()\n",
    "circ = Circulo()"
   ]
  },
  {
   "cell_type": "code",
   "execution_count": 23,
   "id": "e0640a37",
   "metadata": {},
   "outputs": [
    {
     "data": {
      "text/plain": [
       "5"
      ]
     },
     "execution_count": 23,
     "metadata": {},
     "output_type": "execute_result"
    }
   ],
   "source": [
    "# Executando um método da classe Círculo\n",
    "circ.getRaio()"
   ]
  },
  {
   "cell_type": "code",
   "execution_count": 24,
   "id": "a0cd06de",
   "metadata": {},
   "outputs": [],
   "source": [
    "# Criando outro objeto chamado circ1. Uma instância da classe Circulo()\n",
    "# Agora sobrescrevendo o valor do atributo\n",
    "circ1 = Circulo(7)"
   ]
  },
  {
   "cell_type": "code",
   "execution_count": 25,
   "id": "b75a1f2f",
   "metadata": {},
   "outputs": [
    {
     "data": {
      "text/plain": [
       "7"
      ]
     },
     "execution_count": 25,
     "metadata": {},
     "output_type": "execute_result"
    }
   ],
   "source": [
    "# Executando um método de classe Círculo\n",
    "circ1.getRaio()"
   ]
  },
  {
   "cell_type": "code",
   "execution_count": 26,
   "id": "87dd1053",
   "metadata": {},
   "outputs": [
    {
     "name": "stdout",
     "output_type": "stream",
     "text": [
      "O raio é: 7\n"
     ]
    }
   ],
   "source": [
    "# Imprimindo o raio\n",
    "print('O raio é:', circ1.getRaio())"
   ]
  },
  {
   "cell_type": "code",
   "execution_count": 27,
   "id": "7032b9ca",
   "metadata": {},
   "outputs": [
    {
     "name": "stdout",
     "output_type": "stream",
     "text": [
      "Area igual a: 78.5\n"
     ]
    }
   ],
   "source": [
    "# Imprimindo a área\n",
    "print('Area igual a:', circ.area())"
   ]
  },
  {
   "cell_type": "code",
   "execution_count": 28,
   "id": "a7623f8b",
   "metadata": {},
   "outputs": [],
   "source": [
    "# Gerando um novo valor para o raio do círculo\n",
    "circ.setRaio(3)"
   ]
  },
  {
   "cell_type": "code",
   "execution_count": 29,
   "id": "b1d09a2b",
   "metadata": {},
   "outputs": [
    {
     "name": "stdout",
     "output_type": "stream",
     "text": [
      "Novo raio igual a: 3\n"
     ]
    }
   ],
   "source": [
    "# Imrpimindo o novo raio\n",
    "print('Novo raio igual a:', circ.getRaio())"
   ]
  },
  {
   "cell_type": "code",
   "execution_count": null,
   "id": "ad2ea4dd",
   "metadata": {},
   "outputs": [],
   "source": []
  }
 ],
 "metadata": {
  "kernelspec": {
   "display_name": "Python 3 (ipykernel)",
   "language": "python",
   "name": "python3"
  },
  "language_info": {
   "codemirror_mode": {
    "name": "ipython",
    "version": 3
   },
   "file_extension": ".py",
   "mimetype": "text/x-python",
   "name": "python",
   "nbconvert_exporter": "python",
   "pygments_lexer": "ipython3",
   "version": "3.9.13"
  }
 },
 "nbformat": 4,
 "nbformat_minor": 5
}
