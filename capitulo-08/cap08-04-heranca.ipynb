{
 "cells": [
  {
   "cell_type": "markdown",
   "id": "02e0ca6d",
   "metadata": {},
   "source": [
    "# Trabalhando com Herança de Classes em Python"
   ]
  },
  {
   "cell_type": "code",
   "execution_count": 1,
   "id": "baa0bfa4",
   "metadata": {},
   "outputs": [],
   "source": [
    "# Criando a classe Animal - Super-classe\n",
    "class Animal:\n",
    "    \n",
    "    def __init__(self):\n",
    "        print(\"Animal criado.\")\n",
    "    \n",
    "    def imprimir(self):\n",
    "        print(\"Este é um animal.\")\n",
    "        \n",
    "    def comer(self):\n",
    "        print(\"Hora de comer.\")\n",
    "        \n",
    "    def emitir_som(self):\n",
    "        pass"
   ]
  },
  {
   "cell_type": "code",
   "execution_count": 2,
   "id": "6d946d05",
   "metadata": {},
   "outputs": [],
   "source": [
    "# Criando a classe Cachorro - Sub-classe\n",
    "class Cachorro(Animal):\n",
    "    \n",
    "    def __init__(self):\n",
    "        Animal.__init__(self)\n",
    "        print(\"Objeto Cachorro criado.\")\n",
    "        \n",
    "    def emitir_som(self):\n",
    "        print(\"Au au!\")"
   ]
  },
  {
   "cell_type": "code",
   "execution_count": 14,
   "id": "a4ccdcc9",
   "metadata": {},
   "outputs": [],
   "source": [
    "# Criando a classe Gato - Sub-classe\n",
    "class Gato(Animal):\n",
    "    def __init__(self):\n",
    "        print(\"Objeto Gato criado.\")\n",
    "        \n",
    "    def emitir_som(self):\n",
    "        print(\"Miau!\")"
   ]
  },
  {
   "cell_type": "code",
   "execution_count": 15,
   "id": "992a311a",
   "metadata": {},
   "outputs": [
    {
     "name": "stdout",
     "output_type": "stream",
     "text": [
      "Animal criado.\n",
      "Objeto Cachorro criado.\n"
     ]
    }
   ],
   "source": [
    "# Criando um objeto (Instanciando a classe)\n",
    "dawg = Cachorro()"
   ]
  },
  {
   "cell_type": "code",
   "execution_count": 16,
   "id": "978e1abe",
   "metadata": {},
   "outputs": [
    {
     "name": "stdout",
     "output_type": "stream",
     "text": [
      "Objeto Gato criado.\n"
     ]
    }
   ],
   "source": [
    "# Criando um objeto (Instanciando a classe)\n",
    "car = Gato()"
   ]
  },
  {
   "cell_type": "code",
   "execution_count": 17,
   "id": "032e05a5",
   "metadata": {},
   "outputs": [
    {
     "name": "stdout",
     "output_type": "stream",
     "text": [
      "Au au!\n"
     ]
    }
   ],
   "source": [
    "dawg.emitir_som()"
   ]
  },
  {
   "cell_type": "code",
   "execution_count": 18,
   "id": "d8e47c08",
   "metadata": {},
   "outputs": [
    {
     "name": "stdout",
     "output_type": "stream",
     "text": [
      "Miau!\n"
     ]
    }
   ],
   "source": [
    "car.emitir_som()"
   ]
  },
  {
   "cell_type": "code",
   "execution_count": 19,
   "id": "0c7d5ddb",
   "metadata": {},
   "outputs": [
    {
     "name": "stdout",
     "output_type": "stream",
     "text": [
      "Este é um animal.\n"
     ]
    }
   ],
   "source": [
    "dawg.imprimir()"
   ]
  },
  {
   "cell_type": "code",
   "execution_count": 20,
   "id": "ef3cbb32",
   "metadata": {},
   "outputs": [
    {
     "name": "stdout",
     "output_type": "stream",
     "text": [
      "Hora de comer.\n"
     ]
    }
   ],
   "source": [
    "dawg.comer()"
   ]
  },
  {
   "cell_type": "markdown",
   "id": "aee7ba98",
   "metadata": {},
   "source": [
    "# Fim"
   ]
  }
 ],
 "metadata": {
  "kernelspec": {
   "display_name": "Python 3 (ipykernel)",
   "language": "python",
   "name": "python3"
  },
  "language_info": {
   "codemirror_mode": {
    "name": "ipython",
    "version": 3
   },
   "file_extension": ".py",
   "mimetype": "text/x-python",
   "name": "python",
   "nbconvert_exporter": "python",
   "pygments_lexer": "ipython3",
   "version": "3.9.13"
  }
 },
 "nbformat": 4,
 "nbformat_minor": 5
}
