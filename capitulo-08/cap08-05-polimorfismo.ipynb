{
 "cells": [
  {
   "cell_type": "markdown",
   "id": "da849643",
   "metadata": {},
   "source": [
    "# Trabalhando com Polimorfismo de Classes em Python"
   ]
  },
  {
   "cell_type": "code",
   "execution_count": 1,
   "id": "60742e2d",
   "metadata": {},
   "outputs": [],
   "source": [
    "# Superclasse\n",
    "class Veiculo:\n",
    "    \n",
    "    def __init__(self, marca, modelo):\n",
    "        self.marca = marca\n",
    "        self.modelo = modelo\n",
    "        \n",
    "    def acelerar(self):\n",
    "        pass\n",
    "    \n",
    "    def frear(self):\n",
    "        pass"
   ]
  },
  {
   "cell_type": "code",
   "execution_count": 2,
   "id": "8e84ade8",
   "metadata": {},
   "outputs": [],
   "source": [
    "# Subclasse\n",
    "class Carro(Veiculo):\n",
    "    \n",
    "    def acelerar(self):\n",
    "        print(\"O carro está acelerando.\")\n",
    "        \n",
    "    def frear(self):\n",
    "        print(\"O carro está freando\")"
   ]
  },
  {
   "cell_type": "code",
   "execution_count": 6,
   "id": "058edf39",
   "metadata": {},
   "outputs": [],
   "source": [
    "# Subclasse\n",
    "class Moto(Veiculo):\n",
    "    \n",
    "    def acelerar(self):\n",
    "        print(\"A moto está acelerando.\")\n",
    "        \n",
    "    def frear(self):\n",
    "        print(\"A moto está freando.\")\n",
    "    "
   ]
  },
  {
   "cell_type": "code",
   "execution_count": 8,
   "id": "6d68ffb4",
   "metadata": {},
   "outputs": [],
   "source": [
    "# Subclasse\n",
    "class Aviao(Veiculo):\n",
    "    \n",
    "    def acelerar(self):\n",
    "        print(\"O avião está acelerando.\")\n",
    "        \n",
    "    def frear(self):\n",
    "        print(\"O avião está freando.\")\n",
    "        \n",
    "    def decolar(self):\n",
    "        print(\"O avião está decolando.\")\n",
    "    "
   ]
  },
  {
   "cell_type": "code",
   "execution_count": 9,
   "id": "b0b31f30",
   "metadata": {},
   "outputs": [],
   "source": [
    "# Cria os objetos\n",
    "lista_veiculos = [Carro(\"Porsche\", \"911 Turbo\"), Moto(\"Honda\", \"CB 1000R Black Edition\"), Aviao(\"Boeing\", \"757\")]"
   ]
  },
  {
   "cell_type": "code",
   "execution_count": 11,
   "id": "9011e457",
   "metadata": {},
   "outputs": [
    {
     "name": "stdout",
     "output_type": "stream",
     "text": [
      "O carro está acelerando.\n",
      "O carro está freando\n",
      "---\n",
      "O avião está acelerando.\n",
      "O avião está freando.\n",
      "---\n",
      "O avião está acelerando.\n",
      "O avião está freando.\n",
      "O avião está decolando.\n",
      "---\n"
     ]
    }
   ],
   "source": [
    "# Loop\n",
    "for item in lista_veiculos:\n",
    "    \n",
    "    # O método acelerar tem comportamento diferente dependendo do tipo de objeto\n",
    "    item.acelerar()\n",
    "    \n",
    "    # O método frear tem comportamento diferente dependendo do tipo de objeto\n",
    "    item.frear()\n",
    "    \n",
    "    # Executamos o método decolar somente se o objeto for instância da classe Avião\n",
    "    if isinstance(item, Aviao):\n",
    "        item.decolar()\n",
    "        \n",
    "    print('---')"
   ]
  },
  {
   "cell_type": "code",
   "execution_count": null,
   "id": "526c3d39",
   "metadata": {},
   "outputs": [],
   "source": []
  }
 ],
 "metadata": {
  "kernelspec": {
   "display_name": "Python 3 (ipykernel)",
   "language": "python",
   "name": "python3"
  },
  "language_info": {
   "codemirror_mode": {
    "name": "ipython",
    "version": 3
   },
   "file_extension": ".py",
   "mimetype": "text/x-python",
   "name": "python",
   "nbconvert_exporter": "python",
   "pygments_lexer": "ipython3",
   "version": "3.9.13"
  }
 },
 "nbformat": 4,
 "nbformat_minor": 5
}
